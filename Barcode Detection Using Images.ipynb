{
 "cells": [
  {
   "cell_type": "code",
   "execution_count": 23,
   "metadata": {},
   "outputs": [],
   "source": [
    "# import the necessary packages\n",
    "from pyzbar import pyzbar\n",
    "import cv2"
   ]
  },
  {
   "cell_type": "code",
   "execution_count": 24,
   "metadata": {},
   "outputs": [],
   "source": [
    "# load the input image\n",
    "image = cv2.imread(\"barcode.png\",1)"
   ]
  },
  {
   "cell_type": "code",
   "execution_count": 25,
   "metadata": {},
   "outputs": [],
   "source": [
    "# find the barcodes in the image and decode each of the barcodes\n",
    "barcodes = pyzbar.decode(image)"
   ]
  },
  {
   "cell_type": "code",
   "execution_count": 29,
   "metadata": {},
   "outputs": [],
   "source": [
    "# loop over the detected barcodes\n",
    "for barcode in barcodes:\n",
    "    # extract the bounding box location of the barcode and draw the\n",
    "    # bounding box surrounding the barcode on the image\n",
    "    (x, y, w, h) = barcode.rect\n",
    "    cv2.rectangle(image, (x, y), (x + w, y + h), (0, 0, 255), 2)\n",
    "\n",
    "    # the barcode data is a bytes object so if we want to draw it on\n",
    "    # our output image we need to convert it to a string first\n",
    "    barcodeData = barcode.data.decode(\"utf-8\")\n",
    "    barcodeType = barcode.type\n",
    "\n",
    "    # draw the barcode data and barcode type on the image\n",
    "    text = \"{} ({})\".format(barcodeData, barcodeType)\n",
    "    cv2.putText(image, text, (x, y-10), cv2.FONT_HERSHEY_SIMPLEX,0.5, (0, 0, 255), 2)"
   ]
  },
  {
   "cell_type": "code",
   "execution_count": 30,
   "metadata": {},
   "outputs": [],
   "source": [
    "# show the output image\n",
    "cv2.namedWindow('Image', cv2.WINDOW_NORMAL)\n",
    "cv2.imshow(\"Image\", image)\n",
    "k=cv2.waitKey(0)\n",
    "if k==ord('q'):\n",
    "    cv2.destroyAllWindows()"
   ]
  },
  {
   "cell_type": "code",
   "execution_count": null,
   "metadata": {},
   "outputs": [],
   "source": []
  }
 ],
 "metadata": {
  "kernelspec": {
   "display_name": "Python 3",
   "language": "python",
   "name": "python3"
  },
  "language_info": {
   "codemirror_mode": {
    "name": "ipython",
    "version": 3
   },
   "file_extension": ".py",
   "mimetype": "text/x-python",
   "name": "python",
   "nbconvert_exporter": "python",
   "pygments_lexer": "ipython3",
   "version": "3.7.4"
  }
 },
 "nbformat": 4,
 "nbformat_minor": 2
}
