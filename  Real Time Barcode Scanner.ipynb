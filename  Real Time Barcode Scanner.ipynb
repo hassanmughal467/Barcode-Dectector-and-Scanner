{
 "cells": [
  {
   "cell_type": "code",
   "execution_count": 4,
   "metadata": {},
   "outputs": [],
   "source": [
    "# import the necessary packages\n",
    "from pyzbar import pyzbar\n",
    "import datetime\n",
    "import time\n",
    "import cv2\n",
    "import csv\n",
    "import numpy as np"
   ]
  },
  {
   "cell_type": "code",
   "execution_count": 5,
   "metadata": {},
   "outputs": [],
   "source": [
    "csv= open(\"barcodes.csv\", \"w\")\n",
    "found = set()"
   ]
  },
  {
   "cell_type": "code",
   "execution_count": 6,
   "metadata": {},
   "outputs": [
    {
     "name": "stdout",
     "output_type": "stream",
     "text": [
      "[INFO] cleaning up...\n"
     ]
    }
   ],
   "source": [
    "vs=cv2.VideoCapture(0)\n",
    "\n",
    "# loop over the frames from the video stream\n",
    "while True:\n",
    "    # grab the frame from the threaded video stream and resize it to\n",
    "    # have a maximum width of 400 pixels\n",
    "    ret, frame = vs.read() \n",
    "    #resize frame\n",
    "    (w,h,c)=frame.shape\n",
    "    frame = cv2.resize(frame,(400,h))\n",
    "    if not ret:\n",
    "        break\n",
    "    # Not required but looks nice      \n",
    "    frame = cv2.flip( frame, 1 )  \n",
    "    # find the barcodes in the frame and decode each of the barcodes\n",
    "    barcodes = pyzbar.decode(frame)\n",
    "\n",
    "    # loop over the detected barcodes\n",
    "    for barcode in barcodes:\n",
    "        # extract the bounding box location of the barcode and draw\n",
    "        # the bounding box surrounding the barcode on the image\n",
    "        (x, y, w, h) = barcode.rect\n",
    "        cv2.rectangle(frame, (x, y), (x + w, y + h), (0, 0, 255), 2)\n",
    "\n",
    "        # the barcode data is a bytes object so if we want to draw it\n",
    "        # on our output image we need to convert it to a string first\n",
    "        barcodeData = barcode.data.decode(\"utf-8\")\n",
    "        barcodeType = barcode.type\n",
    "        # draw the barcode data and barcode type on the image\n",
    "        text = \"{} ({})\".format(barcodeData, barcodeType)\n",
    "        cv2.putText(frame, text, (x, y - 10),cv2.FONT_HERSHEY_SIMPLEX, 0.5, (0, 0, 255), 2)\n",
    "    \n",
    "        # if the barcode text is currently not in our CSV file, write# the timestamp + barcode to disk and update the set\n",
    "        if barcodeData not in found:\n",
    "            csv.write(\"{},{}\\n\".format(datetime.datetime.now(),barcodeData))\n",
    "            csv.flush()\n",
    "            found.add(barcodeData)\n",
    "    # show the output frame\n",
    "    cv2.imshow(\"Barcode Scanner\", frame)\n",
    "    key = cv2.waitKey(1) & 0xFF\n",
    " \n",
    "    # if the `q` key was pressed, break from the loop\n",
    "    if key == ord(\"q\"):\n",
    "        break\n",
    "\n",
    "# close the output CSV file do a bit of cleanup\n",
    "print(\"[INFO] cleaning up...\")\n",
    "csv.close()\n",
    "# Release the videocapture object\n",
    "vs.release()\n",
    "cv2.destroyAllWindows()\n"
   ]
  },
  {
   "cell_type": "code",
   "execution_count": null,
   "metadata": {},
   "outputs": [],
   "source": []
  }
 ],
 "metadata": {
  "kernelspec": {
   "display_name": "Python 3",
   "language": "python",
   "name": "python3"
  },
  "language_info": {
   "codemirror_mode": {
    "name": "ipython",
    "version": 3
   },
   "file_extension": ".py",
   "mimetype": "text/x-python",
   "name": "python",
   "nbconvert_exporter": "python",
   "pygments_lexer": "ipython3",
   "version": "3.7.4"
  }
 },
 "nbformat": 4,
 "nbformat_minor": 2
}
